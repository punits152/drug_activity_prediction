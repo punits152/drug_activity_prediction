{
 "cells": [
  {
   "cell_type": "code",
   "execution_count": 1,
   "source": [
    "import pandas as pd\r\n",
    "import numpy as np"
   ],
   "outputs": [],
   "metadata": {}
  },
  {
   "cell_type": "markdown",
   "source": [
    "# Data Ingestion"
   ],
   "metadata": {}
  },
  {
   "cell_type": "code",
   "execution_count": 2,
   "source": [
    "file = open(\"../data/dorothea_train.data\",\"r\")\r\n",
    "lines = file.readlines()\r\n",
    "\r\n",
    "data = []\r\n",
    "\r\n",
    "for line in lines:\r\n",
    "    observation = []\r\n",
    "    for item in line.replace(\"\\n\",\"\").strip().split(\" \"):\r\n",
    "        observation.append(int(item))\r\n",
    "    data.append(observation)\r\n",
    "\r\n",
    "matrix=[]\r\n",
    "for observation in data:\r\n",
    "    bool_rng = [0 for i in range(0,100000)]\r\n",
    "    for item in observation:\r\n",
    "        bool_rng[item-1]=1\r\n",
    "    matrix.append(bool_rng)\r\n",
    "\r\n",
    "train_df = pd.DataFrame(matrix)\r\n",
    "\r\n",
    "train_df.shape"
   ],
   "outputs": [
    {
     "output_type": "execute_result",
     "data": {
      "text/plain": [
       "(800, 100000)"
      ]
     },
     "metadata": {},
     "execution_count": 2
    }
   ],
   "metadata": {}
  },
  {
   "cell_type": "code",
   "execution_count": 3,
   "source": [
    "# Test Data\r\n",
    "# I have used validation set for test it have 350 observations and labels are also given\r\n",
    "\r\n",
    "test_file = open(\"../data/dorothea_valid.data\",\"r\")\r\n",
    "lines = test_file.readlines()\r\n",
    "\r\n",
    "data = []\r\n",
    "\r\n",
    "for line in lines:\r\n",
    "    observation = []\r\n",
    "    for item in line.replace(\"\\n\",\"\").strip().split(\" \"):\r\n",
    "        observation.append(int(item))\r\n",
    "    data.append(observation)\r\n",
    "\r\n",
    "matrix=[]\r\n",
    "for observation in data:\r\n",
    "    bool_rng = [0 for i in range(0,100000)]\r\n",
    "    for item in observation:\r\n",
    "        bool_rng[item-1]=1\r\n",
    "    matrix.append(bool_rng)\r\n",
    "\r\n",
    "test_df = pd.DataFrame(matrix)\r\n",
    "\r\n",
    "test_df = pd.DataFrame(matrix)\r\n",
    "\r\n"
   ],
   "outputs": [],
   "metadata": {}
  },
  {
   "cell_type": "code",
   "execution_count": 4,
   "source": [
    "# Creating labels for both train and test data\r\n",
    "labels = []\r\n",
    "file = open(\"../data/dorothea_train.labels\",\"r\")\r\n",
    "data_label = file.read()\r\n",
    "labels_string = data_label.replace(\"\\n\",\",\").strip().split(\",\")\r\n",
    "labels_string = labels_string[:-1]\r\n",
    "labels_string\r\n",
    "for item in labels_string:\r\n",
    "    if int(item) == -1:\r\n",
    "        labels.append(0)\r\n",
    "    else:\r\n",
    "        labels.append(1)\r\n",
    "\r\n",
    "train_labels = pd.Series(labels)\r\n"
   ],
   "outputs": [],
   "metadata": {}
  },
  {
   "cell_type": "code",
   "execution_count": 5,
   "source": [
    "train_labels.value_counts()"
   ],
   "outputs": [
    {
     "output_type": "execute_result",
     "data": {
      "text/plain": [
       "0    722\n",
       "1     78\n",
       "dtype: int64"
      ]
     },
     "metadata": {},
     "execution_count": 5
    }
   ],
   "metadata": {}
  },
  {
   "cell_type": "code",
   "execution_count": 6,
   "source": [
    "# Creating labels for both train and test data\r\n",
    "labels = []\r\n",
    "file = open(\"../data/dorothea_valid.labels\",\"r\")\r\n",
    "data_label = file.read()\r\n",
    "labels_string = data_label.replace(\"\\n\",\",\").strip().split(\",\")\r\n",
    "labels_string = labels_string[:-1]\r\n",
    "labels_string\r\n",
    "for item in labels_string:\r\n",
    "    if int(item) == -1:\r\n",
    "        labels.append(0)\r\n",
    "    else:\r\n",
    "        labels.append(1)\r\n",
    "\r\n",
    "test_labels = pd.Series(labels)\r\n"
   ],
   "outputs": [],
   "metadata": {}
  },
  {
   "cell_type": "code",
   "execution_count": 7,
   "source": [
    "test_labels.value_counts()"
   ],
   "outputs": [
    {
     "output_type": "execute_result",
     "data": {
      "text/plain": [
       "0    316\n",
       "1     34\n",
       "dtype: int64"
      ]
     },
     "metadata": {},
     "execution_count": 7
    }
   ],
   "metadata": {}
  },
  {
   "cell_type": "markdown",
   "source": [
    "# PCA"
   ],
   "metadata": {}
  },
  {
   "cell_type": "code",
   "execution_count": 10,
   "source": [
    "from sklearn.decomposition import PCA"
   ],
   "outputs": [],
   "metadata": {}
  },
  {
   "cell_type": "code",
   "execution_count": null,
   "source": [
    "pca = PCA(n_components=100,random_state=1234)\r\n",
    "pca.fit_transform\r\n"
   ],
   "outputs": [],
   "metadata": {}
  },
  {
   "cell_type": "code",
   "execution_count": null,
   "source": [],
   "outputs": [],
   "metadata": {}
  }
 ],
 "metadata": {
  "orig_nbformat": 4,
  "language_info": {
   "name": "python",
   "version": "3.8.8",
   "mimetype": "text/x-python",
   "codemirror_mode": {
    "name": "ipython",
    "version": 3
   },
   "pygments_lexer": "ipython3",
   "nbconvert_exporter": "python",
   "file_extension": ".py"
  },
  "kernelspec": {
   "name": "python3",
   "display_name": "Python 3.8.8 64-bit ('base': conda)"
  },
  "interpreter": {
   "hash": "84f017cd5557d2282cf5678dc1cdd116ebcd7e7555acfe7e9218cdeda5a0331f"
  }
 },
 "nbformat": 4,
 "nbformat_minor": 2
}