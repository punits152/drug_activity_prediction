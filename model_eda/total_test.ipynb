{
 "cells": [
  {
   "cell_type": "code",
   "execution_count": 2,
   "source": [
    "file = open(\"../data/dorothea_train.data\",\"r\")"
   ],
   "outputs": [],
   "metadata": {}
  },
  {
   "cell_type": "code",
   "execution_count": 3,
   "source": [
    "lines = file.readlines()"
   ],
   "outputs": [],
   "metadata": {}
  },
  {
   "cell_type": "code",
   "execution_count": 30,
   "source": [
    "import pandas as pd\r\n",
    "import numpy as np"
   ],
   "outputs": [],
   "metadata": {}
  },
  {
   "cell_type": "code",
   "execution_count": 17,
   "source": [
    "\r\n",
    "observations = []\r\n",
    "for line in lines:\r\n",
    "    observations.append(line.replace(\"\\n\",\"\").strip().split(\" \"))"
   ],
   "outputs": [],
   "metadata": {}
  },
  {
   "cell_type": "code",
   "execution_count": 24,
   "source": [
    "data = []\r\n",
    "\r\n",
    "for line in lines:\r\n",
    "    observation = []\r\n",
    "    for item in line.replace(\"\\n\",\"\").strip().split(\" \"):\r\n",
    "        observation.append(int(item))\r\n",
    "    data.append(observation)"
   ],
   "outputs": [],
   "metadata": {}
  },
  {
   "cell_type": "code",
   "execution_count": 34,
   "source": [
    "matrix=[]\r\n",
    "for observation in data:\r\n",
    "    bool_rng = [0 for i in range(0,100000)]\r\n",
    "    for item in observation:\r\n",
    "        bool_rng[item-1]=1\r\n",
    "    matrix.append(bool_rng)"
   ],
   "outputs": [],
   "metadata": {}
  },
  {
   "cell_type": "code",
   "execution_count": 35,
   "source": [
    "df = pd.DataFrame(matrix)\r\n"
   ],
   "outputs": [],
   "metadata": {}
  },
  {
   "cell_type": "code",
   "execution_count": null,
   "source": [],
   "outputs": [],
   "metadata": {}
  }
 ],
 "metadata": {
  "orig_nbformat": 4,
  "language_info": {
   "name": "python",
   "version": "3.8.8",
   "mimetype": "text/x-python",
   "codemirror_mode": {
    "name": "ipython",
    "version": 3
   },
   "pygments_lexer": "ipython3",
   "nbconvert_exporter": "python",
   "file_extension": ".py"
  },
  "kernelspec": {
   "name": "python3",
   "display_name": "Python 3.8.8 64-bit ('base': conda)"
  },
  "interpreter": {
   "hash": "84f017cd5557d2282cf5678dc1cdd116ebcd7e7555acfe7e9218cdeda5a0331f"
  }
 },
 "nbformat": 4,
 "nbformat_minor": 2
}