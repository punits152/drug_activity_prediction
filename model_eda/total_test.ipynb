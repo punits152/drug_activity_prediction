{
 "cells": [
  {
   "cell_type": "code",
   "execution_count": 3,
   "source": [
    "import pandas as pd\r\n",
    "import numpy as np"
   ],
   "outputs": [],
   "metadata": {}
  },
  {
   "cell_type": "markdown",
   "source": [
    "# Data Ingestion"
   ],
   "metadata": {}
  },
  {
   "cell_type": "code",
   "execution_count": 4,
   "source": [
    "file = open(\"../data/dorothea_train.data\",\"r\")\r\n",
    "lines = file.readlines()\r\n",
    "\r\n",
    "data = []\r\n",
    "\r\n",
    "for line in lines:\r\n",
    "    observation = []\r\n",
    "    for item in line.replace(\"\\n\",\"\").strip().split(\" \"):\r\n",
    "        observation.append(int(item))\r\n",
    "    data.append(observation)\r\n",
    "\r\n",
    "matrix=[]\r\n",
    "for observation in data:\r\n",
    "    bool_rng = [0 for i in range(0,100000)]\r\n",
    "    for item in observation:\r\n",
    "        bool_rng[item-1]=1\r\n",
    "    matrix.append(bool_rng)\r\n",
    "\r\n",
    "train_df = pd.DataFrame(matrix)\r\n",
    "\r\n",
    "train_df.shape"
   ],
   "outputs": [
    {
     "output_type": "execute_result",
     "data": {
      "text/plain": [
       "(800, 100000)"
      ]
     },
     "metadata": {},
     "execution_count": 4
    }
   ],
   "metadata": {}
  },
  {
   "cell_type": "code",
   "execution_count": 5,
   "source": [
    "# Test Data\r\n",
    "# I have used validation set for test it have 350 observations and labels are also given\r\n",
    "\r\n",
    "test_file = open(\"../data/dorothea_valid.data\",\"r\")\r\n",
    "lines = test_file.readlines()\r\n",
    "\r\n",
    "data = []\r\n",
    "\r\n",
    "for line in lines:\r\n",
    "    observation = []\r\n",
    "    for item in line.replace(\"\\n\",\"\").strip().split(\" \"):\r\n",
    "        observation.append(int(item))\r\n",
    "    data.append(observation)\r\n",
    "\r\n",
    "matrix=[]\r\n",
    "for observation in data:\r\n",
    "    bool_rng = [0 for i in range(0,100000)]\r\n",
    "    for item in observation:\r\n",
    "        bool_rng[item-1]=1\r\n",
    "    matrix.append(bool_rng)\r\n",
    "\r\n",
    "test_df = pd.DataFrame(matrix)\r\n",
    "\r\n",
    "test_df = pd.DataFrame(matrix)\r\n",
    "\r\n"
   ],
   "outputs": [],
   "metadata": {}
  },
  {
   "cell_type": "code",
   "execution_count": 6,
   "source": [
    "# Creating labels for both train and test data\r\n",
    "labels = []\r\n",
    "file = open(\"../data/dorothea_train.labels\",\"r\")\r\n",
    "data_label = file.read()\r\n",
    "labels_string = data_label.replace(\"\\n\",\",\").strip().split(\",\")\r\n",
    "labels_string = labels_string[:-1]\r\n",
    "labels_string\r\n",
    "for item in labels_string:\r\n",
    "    if int(item) == -1:\r\n",
    "        labels.append(0)\r\n",
    "    else:\r\n",
    "        labels.append(1)\r\n",
    "\r\n",
    "train_labels = pd.Series(labels)\r\n"
   ],
   "outputs": [],
   "metadata": {}
  },
  {
   "cell_type": "code",
   "execution_count": 7,
   "source": [
    "train_labels.value_counts()"
   ],
   "outputs": [
    {
     "output_type": "execute_result",
     "data": {
      "text/plain": [
       "0    722\n",
       "1     78\n",
       "dtype: int64"
      ]
     },
     "metadata": {},
     "execution_count": 7
    }
   ],
   "metadata": {}
  },
  {
   "cell_type": "code",
   "execution_count": 8,
   "source": [
    "# Creating labels for both train and test data\r\n",
    "labels = []\r\n",
    "file = open(\"../data/dorothea_valid.labels\",\"r\")\r\n",
    "data_label = file.read()\r\n",
    "labels_string = data_label.replace(\"\\n\",\",\").strip().split(\",\")\r\n",
    "labels_string = labels_string[:-1]\r\n",
    "labels_string\r\n",
    "for item in labels_string:\r\n",
    "    if int(item) == -1:\r\n",
    "        labels.append(0)\r\n",
    "    else:\r\n",
    "        labels.append(1)\r\n",
    "\r\n",
    "test_labels = pd.Series(labels)\r\n"
   ],
   "outputs": [],
   "metadata": {}
  },
  {
   "cell_type": "code",
   "execution_count": 9,
   "source": [
    "test_labels.value_counts()"
   ],
   "outputs": [
    {
     "output_type": "execute_result",
     "data": {
      "text/plain": [
       "0    316\n",
       "1     34\n",
       "dtype: int64"
      ]
     },
     "metadata": {},
     "execution_count": 9
    }
   ],
   "metadata": {}
  },
  {
   "cell_type": "code",
   "execution_count": 10,
   "source": [
    "train_df.head()"
   ],
   "outputs": [
    {
     "output_type": "execute_result",
     "data": {
      "text/html": [
       "<div>\n",
       "<style scoped>\n",
       "    .dataframe tbody tr th:only-of-type {\n",
       "        vertical-align: middle;\n",
       "    }\n",
       "\n",
       "    .dataframe tbody tr th {\n",
       "        vertical-align: top;\n",
       "    }\n",
       "\n",
       "    .dataframe thead th {\n",
       "        text-align: right;\n",
       "    }\n",
       "</style>\n",
       "<table border=\"1\" class=\"dataframe\">\n",
       "  <thead>\n",
       "    <tr style=\"text-align: right;\">\n",
       "      <th></th>\n",
       "      <th>0</th>\n",
       "      <th>1</th>\n",
       "      <th>2</th>\n",
       "      <th>3</th>\n",
       "      <th>4</th>\n",
       "      <th>5</th>\n",
       "      <th>6</th>\n",
       "      <th>7</th>\n",
       "      <th>8</th>\n",
       "      <th>9</th>\n",
       "      <th>...</th>\n",
       "      <th>99990</th>\n",
       "      <th>99991</th>\n",
       "      <th>99992</th>\n",
       "      <th>99993</th>\n",
       "      <th>99994</th>\n",
       "      <th>99995</th>\n",
       "      <th>99996</th>\n",
       "      <th>99997</th>\n",
       "      <th>99998</th>\n",
       "      <th>99999</th>\n",
       "    </tr>\n",
       "  </thead>\n",
       "  <tbody>\n",
       "    <tr>\n",
       "      <th>0</th>\n",
       "      <td>0</td>\n",
       "      <td>0</td>\n",
       "      <td>0</td>\n",
       "      <td>0</td>\n",
       "      <td>0</td>\n",
       "      <td>0</td>\n",
       "      <td>0</td>\n",
       "      <td>0</td>\n",
       "      <td>0</td>\n",
       "      <td>0</td>\n",
       "      <td>...</td>\n",
       "      <td>0</td>\n",
       "      <td>0</td>\n",
       "      <td>0</td>\n",
       "      <td>0</td>\n",
       "      <td>0</td>\n",
       "      <td>0</td>\n",
       "      <td>0</td>\n",
       "      <td>1</td>\n",
       "      <td>0</td>\n",
       "      <td>0</td>\n",
       "    </tr>\n",
       "    <tr>\n",
       "      <th>1</th>\n",
       "      <td>0</td>\n",
       "      <td>0</td>\n",
       "      <td>0</td>\n",
       "      <td>0</td>\n",
       "      <td>0</td>\n",
       "      <td>0</td>\n",
       "      <td>0</td>\n",
       "      <td>0</td>\n",
       "      <td>0</td>\n",
       "      <td>0</td>\n",
       "      <td>...</td>\n",
       "      <td>0</td>\n",
       "      <td>0</td>\n",
       "      <td>0</td>\n",
       "      <td>0</td>\n",
       "      <td>0</td>\n",
       "      <td>0</td>\n",
       "      <td>0</td>\n",
       "      <td>0</td>\n",
       "      <td>0</td>\n",
       "      <td>0</td>\n",
       "    </tr>\n",
       "    <tr>\n",
       "      <th>2</th>\n",
       "      <td>0</td>\n",
       "      <td>0</td>\n",
       "      <td>0</td>\n",
       "      <td>0</td>\n",
       "      <td>0</td>\n",
       "      <td>0</td>\n",
       "      <td>0</td>\n",
       "      <td>0</td>\n",
       "      <td>0</td>\n",
       "      <td>1</td>\n",
       "      <td>...</td>\n",
       "      <td>0</td>\n",
       "      <td>0</td>\n",
       "      <td>0</td>\n",
       "      <td>0</td>\n",
       "      <td>0</td>\n",
       "      <td>0</td>\n",
       "      <td>0</td>\n",
       "      <td>0</td>\n",
       "      <td>0</td>\n",
       "      <td>0</td>\n",
       "    </tr>\n",
       "    <tr>\n",
       "      <th>3</th>\n",
       "      <td>0</td>\n",
       "      <td>0</td>\n",
       "      <td>0</td>\n",
       "      <td>0</td>\n",
       "      <td>0</td>\n",
       "      <td>0</td>\n",
       "      <td>0</td>\n",
       "      <td>0</td>\n",
       "      <td>0</td>\n",
       "      <td>0</td>\n",
       "      <td>...</td>\n",
       "      <td>0</td>\n",
       "      <td>0</td>\n",
       "      <td>0</td>\n",
       "      <td>0</td>\n",
       "      <td>0</td>\n",
       "      <td>0</td>\n",
       "      <td>0</td>\n",
       "      <td>0</td>\n",
       "      <td>0</td>\n",
       "      <td>0</td>\n",
       "    </tr>\n",
       "    <tr>\n",
       "      <th>4</th>\n",
       "      <td>0</td>\n",
       "      <td>0</td>\n",
       "      <td>0</td>\n",
       "      <td>0</td>\n",
       "      <td>0</td>\n",
       "      <td>0</td>\n",
       "      <td>0</td>\n",
       "      <td>0</td>\n",
       "      <td>0</td>\n",
       "      <td>0</td>\n",
       "      <td>...</td>\n",
       "      <td>0</td>\n",
       "      <td>0</td>\n",
       "      <td>0</td>\n",
       "      <td>0</td>\n",
       "      <td>0</td>\n",
       "      <td>0</td>\n",
       "      <td>0</td>\n",
       "      <td>0</td>\n",
       "      <td>0</td>\n",
       "      <td>1</td>\n",
       "    </tr>\n",
       "  </tbody>\n",
       "</table>\n",
       "<p>5 rows × 100000 columns</p>\n",
       "</div>"
      ],
      "text/plain": [
       "   0      1      2      3      4      5      6      7      8      9      ...  \\\n",
       "0      0      0      0      0      0      0      0      0      0      0  ...   \n",
       "1      0      0      0      0      0      0      0      0      0      0  ...   \n",
       "2      0      0      0      0      0      0      0      0      0      1  ...   \n",
       "3      0      0      0      0      0      0      0      0      0      0  ...   \n",
       "4      0      0      0      0      0      0      0      0      0      0  ...   \n",
       "\n",
       "   99990  99991  99992  99993  99994  99995  99996  99997  99998  99999  \n",
       "0      0      0      0      0      0      0      0      1      0      0  \n",
       "1      0      0      0      0      0      0      0      0      0      0  \n",
       "2      0      0      0      0      0      0      0      0      0      0  \n",
       "3      0      0      0      0      0      0      0      0      0      0  \n",
       "4      0      0      0      0      0      0      0      0      0      1  \n",
       "\n",
       "[5 rows x 100000 columns]"
      ]
     },
     "metadata": {},
     "execution_count": 10
    }
   ],
   "metadata": {}
  },
  {
   "cell_type": "markdown",
   "source": [
    "# PCA"
   ],
   "metadata": {}
  },
  {
   "cell_type": "code",
   "execution_count": 11,
   "source": [
    "from sklearn.decomposition import PCA\r\n",
    "pca = PCA(n_components=500,random_state=1234,svd_solver=\"auto\")"
   ],
   "outputs": [],
   "metadata": {}
  },
  {
   "cell_type": "code",
   "execution_count": 12,
   "source": [
    "\r\n",
    "x_reduced = pca.fit_transform(train_df)"
   ],
   "outputs": [],
   "metadata": {}
  },
  {
   "cell_type": "code",
   "execution_count": 13,
   "source": [
    "x_reduced.shape"
   ],
   "outputs": [
    {
     "output_type": "execute_result",
     "data": {
      "text/plain": [
       "(800, 500)"
      ]
     },
     "metadata": {},
     "execution_count": 13
    }
   ],
   "metadata": {}
  },
  {
   "cell_type": "code",
   "execution_count": 14,
   "source": [
    "np.sum((pca.explained_variance_ratio_))"
   ],
   "outputs": [
    {
     "output_type": "execute_result",
     "data": {
      "text/plain": [
       "0.7128699467193922"
      ]
     },
     "metadata": {},
     "execution_count": 14
    }
   ],
   "metadata": {}
  },
  {
   "cell_type": "code",
   "execution_count": 15,
   "source": [
    "data = pd.DataFrame(x_reduced)"
   ],
   "outputs": [],
   "metadata": {}
  },
  {
   "cell_type": "code",
   "execution_count": 16,
   "source": [
    "data.head()"
   ],
   "outputs": [
    {
     "output_type": "execute_result",
     "data": {
      "text/html": [
       "<div>\n",
       "<style scoped>\n",
       "    .dataframe tbody tr th:only-of-type {\n",
       "        vertical-align: middle;\n",
       "    }\n",
       "\n",
       "    .dataframe tbody tr th {\n",
       "        vertical-align: top;\n",
       "    }\n",
       "\n",
       "    .dataframe thead th {\n",
       "        text-align: right;\n",
       "    }\n",
       "</style>\n",
       "<table border=\"1\" class=\"dataframe\">\n",
       "  <thead>\n",
       "    <tr style=\"text-align: right;\">\n",
       "      <th></th>\n",
       "      <th>0</th>\n",
       "      <th>1</th>\n",
       "      <th>2</th>\n",
       "      <th>3</th>\n",
       "      <th>4</th>\n",
       "      <th>5</th>\n",
       "      <th>6</th>\n",
       "      <th>7</th>\n",
       "      <th>8</th>\n",
       "      <th>9</th>\n",
       "      <th>...</th>\n",
       "      <th>490</th>\n",
       "      <th>491</th>\n",
       "      <th>492</th>\n",
       "      <th>493</th>\n",
       "      <th>494</th>\n",
       "      <th>495</th>\n",
       "      <th>496</th>\n",
       "      <th>497</th>\n",
       "      <th>498</th>\n",
       "      <th>499</th>\n",
       "    </tr>\n",
       "  </thead>\n",
       "  <tbody>\n",
       "    <tr>\n",
       "      <th>0</th>\n",
       "      <td>-1.125895</td>\n",
       "      <td>-0.128432</td>\n",
       "      <td>-0.102904</td>\n",
       "      <td>-0.313559</td>\n",
       "      <td>0.160224</td>\n",
       "      <td>0.131673</td>\n",
       "      <td>0.063405</td>\n",
       "      <td>0.450344</td>\n",
       "      <td>-0.155853</td>\n",
       "      <td>0.093748</td>\n",
       "      <td>...</td>\n",
       "      <td>-1.213838</td>\n",
       "      <td>0.856894</td>\n",
       "      <td>1.161418</td>\n",
       "      <td>-0.901237</td>\n",
       "      <td>-0.501987</td>\n",
       "      <td>0.316285</td>\n",
       "      <td>-0.204458</td>\n",
       "      <td>-0.032653</td>\n",
       "      <td>-2.578705</td>\n",
       "      <td>-0.909622</td>\n",
       "    </tr>\n",
       "    <tr>\n",
       "      <th>1</th>\n",
       "      <td>-1.308433</td>\n",
       "      <td>0.193477</td>\n",
       "      <td>-0.405067</td>\n",
       "      <td>-0.140333</td>\n",
       "      <td>-0.031234</td>\n",
       "      <td>0.171965</td>\n",
       "      <td>-0.041697</td>\n",
       "      <td>0.033842</td>\n",
       "      <td>-0.045616</td>\n",
       "      <td>-0.115128</td>\n",
       "      <td>...</td>\n",
       "      <td>-1.760565</td>\n",
       "      <td>-0.313390</td>\n",
       "      <td>-1.372043</td>\n",
       "      <td>0.057041</td>\n",
       "      <td>0.819698</td>\n",
       "      <td>1.178420</td>\n",
       "      <td>0.738784</td>\n",
       "      <td>-0.854156</td>\n",
       "      <td>1.025650</td>\n",
       "      <td>-0.596636</td>\n",
       "    </tr>\n",
       "    <tr>\n",
       "      <th>2</th>\n",
       "      <td>-1.405023</td>\n",
       "      <td>0.097897</td>\n",
       "      <td>-0.345328</td>\n",
       "      <td>-0.158998</td>\n",
       "      <td>0.093443</td>\n",
       "      <td>0.388854</td>\n",
       "      <td>0.126085</td>\n",
       "      <td>0.165826</td>\n",
       "      <td>-0.134099</td>\n",
       "      <td>0.051521</td>\n",
       "      <td>...</td>\n",
       "      <td>0.264518</td>\n",
       "      <td>-1.109221</td>\n",
       "      <td>0.940173</td>\n",
       "      <td>-2.045907</td>\n",
       "      <td>-1.650553</td>\n",
       "      <td>-1.059776</td>\n",
       "      <td>-1.367381</td>\n",
       "      <td>0.661247</td>\n",
       "      <td>-0.401110</td>\n",
       "      <td>-0.336390</td>\n",
       "    </tr>\n",
       "    <tr>\n",
       "      <th>3</th>\n",
       "      <td>-1.361456</td>\n",
       "      <td>0.190981</td>\n",
       "      <td>-0.230150</td>\n",
       "      <td>-0.240202</td>\n",
       "      <td>-0.099112</td>\n",
       "      <td>0.563842</td>\n",
       "      <td>-0.132841</td>\n",
       "      <td>-0.001549</td>\n",
       "      <td>0.076056</td>\n",
       "      <td>-0.264714</td>\n",
       "      <td>...</td>\n",
       "      <td>1.309512</td>\n",
       "      <td>0.308321</td>\n",
       "      <td>-1.099145</td>\n",
       "      <td>1.658956</td>\n",
       "      <td>0.548347</td>\n",
       "      <td>-0.148037</td>\n",
       "      <td>1.760624</td>\n",
       "      <td>-1.994659</td>\n",
       "      <td>-1.017842</td>\n",
       "      <td>0.564341</td>\n",
       "    </tr>\n",
       "    <tr>\n",
       "      <th>4</th>\n",
       "      <td>-1.092540</td>\n",
       "      <td>0.367327</td>\n",
       "      <td>-0.308921</td>\n",
       "      <td>-0.146550</td>\n",
       "      <td>0.009217</td>\n",
       "      <td>0.362650</td>\n",
       "      <td>0.103784</td>\n",
       "      <td>0.033488</td>\n",
       "      <td>-0.100433</td>\n",
       "      <td>-0.185313</td>\n",
       "      <td>...</td>\n",
       "      <td>-2.129609</td>\n",
       "      <td>1.004921</td>\n",
       "      <td>-0.450995</td>\n",
       "      <td>0.123057</td>\n",
       "      <td>-0.188511</td>\n",
       "      <td>-0.101625</td>\n",
       "      <td>0.775749</td>\n",
       "      <td>-0.766409</td>\n",
       "      <td>-0.246546</td>\n",
       "      <td>-1.124636</td>\n",
       "    </tr>\n",
       "  </tbody>\n",
       "</table>\n",
       "<p>5 rows × 500 columns</p>\n",
       "</div>"
      ],
      "text/plain": [
       "        0         1         2         3         4         5         6    \\\n",
       "0 -1.125895 -0.128432 -0.102904 -0.313559  0.160224  0.131673  0.063405   \n",
       "1 -1.308433  0.193477 -0.405067 -0.140333 -0.031234  0.171965 -0.041697   \n",
       "2 -1.405023  0.097897 -0.345328 -0.158998  0.093443  0.388854  0.126085   \n",
       "3 -1.361456  0.190981 -0.230150 -0.240202 -0.099112  0.563842 -0.132841   \n",
       "4 -1.092540  0.367327 -0.308921 -0.146550  0.009217  0.362650  0.103784   \n",
       "\n",
       "        7         8         9    ...       490       491       492       493  \\\n",
       "0  0.450344 -0.155853  0.093748  ... -1.213838  0.856894  1.161418 -0.901237   \n",
       "1  0.033842 -0.045616 -0.115128  ... -1.760565 -0.313390 -1.372043  0.057041   \n",
       "2  0.165826 -0.134099  0.051521  ...  0.264518 -1.109221  0.940173 -2.045907   \n",
       "3 -0.001549  0.076056 -0.264714  ...  1.309512  0.308321 -1.099145  1.658956   \n",
       "4  0.033488 -0.100433 -0.185313  ... -2.129609  1.004921 -0.450995  0.123057   \n",
       "\n",
       "        494       495       496       497       498       499  \n",
       "0 -0.501987  0.316285 -0.204458 -0.032653 -2.578705 -0.909622  \n",
       "1  0.819698  1.178420  0.738784 -0.854156  1.025650 -0.596636  \n",
       "2 -1.650553 -1.059776 -1.367381  0.661247 -0.401110 -0.336390  \n",
       "3  0.548347 -0.148037  1.760624 -1.994659 -1.017842  0.564341  \n",
       "4 -0.188511 -0.101625  0.775749 -0.766409 -0.246546 -1.124636  \n",
       "\n",
       "[5 rows x 500 columns]"
      ]
     },
     "metadata": {},
     "execution_count": 16
    }
   ],
   "metadata": {}
  },
  {
   "cell_type": "markdown",
   "source": [
    "## Model Selection"
   ],
   "metadata": {}
  },
  {
   "cell_type": "code",
   "execution_count": 17,
   "source": [
    "from sklearn.model_selection import train_test_split"
   ],
   "outputs": [],
   "metadata": {}
  },
  {
   "cell_type": "code",
   "execution_count": 18,
   "source": [
    "X_train , X_test, Y_train, Y_test = train_test_split(data,train_labels,random_state=123, test_size=0.2)"
   ],
   "outputs": [],
   "metadata": {}
  },
  {
   "cell_type": "code",
   "execution_count": 19,
   "source": [
    "X_train.shape"
   ],
   "outputs": [
    {
     "output_type": "execute_result",
     "data": {
      "text/plain": [
       "(640, 500)"
      ]
     },
     "metadata": {},
     "execution_count": 19
    }
   ],
   "metadata": {}
  },
  {
   "cell_type": "code",
   "execution_count": 20,
   "source": [
    "X_test.shape"
   ],
   "outputs": [
    {
     "output_type": "execute_result",
     "data": {
      "text/plain": [
       "(160, 500)"
      ]
     },
     "metadata": {},
     "execution_count": 20
    }
   ],
   "metadata": {}
  },
  {
   "cell_type": "code",
   "execution_count": 21,
   "source": [
    "Y_train.value_counts()"
   ],
   "outputs": [
    {
     "output_type": "execute_result",
     "data": {
      "text/plain": [
       "0    579\n",
       "1     61\n",
       "dtype: int64"
      ]
     },
     "metadata": {},
     "execution_count": 21
    }
   ],
   "metadata": {}
  },
  {
   "cell_type": "code",
   "execution_count": 22,
   "source": [
    "Y_test.value_counts()"
   ],
   "outputs": [
    {
     "output_type": "execute_result",
     "data": {
      "text/plain": [
       "0    143\n",
       "1     17\n",
       "dtype: int64"
      ]
     },
     "metadata": {},
     "execution_count": 22
    }
   ],
   "metadata": {}
  },
  {
   "cell_type": "code",
   "execution_count": 23,
   "source": [
    "# Balance in Test and train\r\n",
    "print(\"Train ratio for 1 \",61/(579+61))\r\n",
    "print(\"Test ratio for 1 \", 17/(17+143))"
   ],
   "outputs": [
    {
     "output_type": "stream",
     "name": "stdout",
     "text": [
      "Train ratio for 1  0.0953125\n",
      "Test ratio for 1  0.10625\n"
     ]
    }
   ],
   "metadata": {}
  },
  {
   "cell_type": "code",
   "execution_count": 46,
   "source": [
    "from sklearn.tree import DecisionTreeClassifier\r\n",
    "dtc = DecisionTreeClassifier(max_depth=16)"
   ],
   "outputs": [],
   "metadata": {}
  },
  {
   "cell_type": "code",
   "execution_count": 47,
   "source": [
    "dtc.fit(X_train,Y_train)"
   ],
   "outputs": [
    {
     "output_type": "execute_result",
     "data": {
      "text/plain": [
       "DecisionTreeClassifier(max_depth=16)"
      ]
     },
     "metadata": {},
     "execution_count": 47
    }
   ],
   "metadata": {}
  },
  {
   "cell_type": "code",
   "execution_count": 48,
   "source": [
    "y_hat = dtc.predict(X_test)"
   ],
   "outputs": [],
   "metadata": {}
  },
  {
   "cell_type": "code",
   "execution_count": 49,
   "source": [
    "from sklearn.metrics import accuracy_score, classification_report"
   ],
   "outputs": [],
   "metadata": {}
  },
  {
   "cell_type": "code",
   "execution_count": 51,
   "source": [
    "print(classification_report(Y_test,y_hat))"
   ],
   "outputs": [
    {
     "output_type": "stream",
     "name": "stdout",
     "text": [
      "              precision    recall  f1-score   support\n",
      "\n",
      "           0       0.93      0.95      0.94       143\n",
      "           1       0.46      0.35      0.40        17\n",
      "\n",
      "    accuracy                           0.89       160\n",
      "   macro avg       0.69      0.65      0.67       160\n",
      "weighted avg       0.88      0.89      0.88       160\n",
      "\n"
     ]
    }
   ],
   "metadata": {}
  },
  {
   "cell_type": "code",
   "execution_count": 28,
   "source": [
    "accuracy_score(Y_test, y_hat)"
   ],
   "outputs": [
    {
     "output_type": "execute_result",
     "data": {
      "text/plain": [
       "0.89375"
      ]
     },
     "metadata": {},
     "execution_count": 28
    }
   ],
   "metadata": {}
  },
  {
   "cell_type": "code",
   "execution_count": 29,
   "source": [
    "print(classification_report(Y_test,y_hat))"
   ],
   "outputs": [
    {
     "output_type": "stream",
     "name": "stdout",
     "text": [
      "              precision    recall  f1-score   support\n",
      "\n",
      "           0       0.92      0.97      0.94       143\n",
      "           1       0.50      0.29      0.37        17\n",
      "\n",
      "    accuracy                           0.89       160\n",
      "   macro avg       0.71      0.63      0.66       160\n",
      "weighted avg       0.88      0.89      0.88       160\n",
      "\n"
     ]
    }
   ],
   "metadata": {}
  },
  {
   "cell_type": "code",
   "execution_count": 63,
   "source": [
    "## Random Forest\r\n",
    "from sklearn.neighbors import KNeighborsClassifier"
   ],
   "outputs": [],
   "metadata": {}
  },
  {
   "cell_type": "code",
   "execution_count": 64,
   "source": [
    "kncf = KNeighborsClassifier(n_neighbors=100)\r\n",
    "kncf.fit(X_train,Y_train)"
   ],
   "outputs": [
    {
     "output_type": "execute_result",
     "data": {
      "text/plain": [
       "KNeighborsClassifier(n_neighbors=100)"
      ]
     },
     "metadata": {},
     "execution_count": 64
    }
   ],
   "metadata": {}
  },
  {
   "cell_type": "code",
   "execution_count": 65,
   "source": [
    "y_hat = kncf.predict(X_test)"
   ],
   "outputs": [],
   "metadata": {}
  },
  {
   "cell_type": "code",
   "execution_count": 66,
   "source": [
    "accuracy_score(Y_test,y_hat)"
   ],
   "outputs": [
    {
     "output_type": "execute_result",
     "data": {
      "text/plain": [
       "0.89375"
      ]
     },
     "metadata": {},
     "execution_count": 66
    }
   ],
   "metadata": {}
  },
  {
   "cell_type": "code",
   "execution_count": 68,
   "source": [
    "print(classification_report(Y_test,y_hat))"
   ],
   "outputs": [
    {
     "output_type": "stream",
     "name": "stdout",
     "text": [
      "              precision    recall  f1-score   support\n",
      "\n",
      "           0       0.89      1.00      0.94       143\n",
      "           1       0.00      0.00      0.00        17\n",
      "\n",
      "    accuracy                           0.89       160\n",
      "   macro avg       0.45      0.50      0.47       160\n",
      "weighted avg       0.80      0.89      0.84       160\n",
      "\n"
     ]
    },
    {
     "output_type": "stream",
     "name": "stderr",
     "text": [
      "F:\\1_Softwares_Installed\\Anaconda\\lib\\site-packages\\sklearn\\metrics\\_classification.py:1245: UndefinedMetricWarning: Precision and F-score are ill-defined and being set to 0.0 in labels with no predicted samples. Use `zero_division` parameter to control this behavior.\n",
      "  _warn_prf(average, modifier, msg_start, len(result))\n",
      "F:\\1_Softwares_Installed\\Anaconda\\lib\\site-packages\\sklearn\\metrics\\_classification.py:1245: UndefinedMetricWarning: Precision and F-score are ill-defined and being set to 0.0 in labels with no predicted samples. Use `zero_division` parameter to control this behavior.\n",
      "  _warn_prf(average, modifier, msg_start, len(result))\n",
      "F:\\1_Softwares_Installed\\Anaconda\\lib\\site-packages\\sklearn\\metrics\\_classification.py:1245: UndefinedMetricWarning: Precision and F-score are ill-defined and being set to 0.0 in labels with no predicted samples. Use `zero_division` parameter to control this behavior.\n",
      "  _warn_prf(average, modifier, msg_start, len(result))\n"
     ]
    }
   ],
   "metadata": {}
  },
  {
   "cell_type": "code",
   "execution_count": 69,
   "source": [
    "from sklearn.ensemble import RandomForestClassifier\r\n",
    "rfc = RandomForestClassifier(n_estimators=500,max_depth=16,oob_score=True)"
   ],
   "outputs": [],
   "metadata": {}
  },
  {
   "cell_type": "code",
   "execution_count": 70,
   "source": [
    "rfc.fit(X_train,Y_train)"
   ],
   "outputs": [
    {
     "output_type": "execute_result",
     "data": {
      "text/plain": [
       "RandomForestClassifier(max_depth=16, n_estimators=500, oob_score=True)"
      ]
     },
     "metadata": {},
     "execution_count": 70
    }
   ],
   "metadata": {}
  },
  {
   "cell_type": "code",
   "execution_count": 71,
   "source": [
    "y_hat = rfc.predict(X_test)"
   ],
   "outputs": [],
   "metadata": {}
  },
  {
   "cell_type": "code",
   "execution_count": 72,
   "source": [
    "print(classification_report(Y_test,y_hat))"
   ],
   "outputs": [
    {
     "output_type": "stream",
     "name": "stdout",
     "text": [
      "              precision    recall  f1-score   support\n",
      "\n",
      "           0       0.92      0.99      0.96       143\n",
      "           1       0.83      0.29      0.43        17\n",
      "\n",
      "    accuracy                           0.92       160\n",
      "   macro avg       0.88      0.64      0.70       160\n",
      "weighted avg       0.91      0.92      0.90       160\n",
      "\n"
     ]
    }
   ],
   "metadata": {}
  },
  {
   "cell_type": "code",
   "execution_count": 62,
   "source": [
    "accuracy_score(Y_test,y_hat)"
   ],
   "outputs": [
    {
     "output_type": "execute_result",
     "data": {
      "text/plain": [
       "0.91875"
      ]
     },
     "metadata": {},
     "execution_count": 62
    }
   ],
   "metadata": {}
  },
  {
   "cell_type": "code",
   "execution_count": 38,
   "source": [
    "print(classification_report(Y_test,y_hat))"
   ],
   "outputs": [
    {
     "output_type": "stream",
     "name": "stdout",
     "text": [
      "              precision    recall  f1-score   support\n",
      "\n",
      "           0       0.92      0.99      0.95       143\n",
      "           1       0.80      0.24      0.36        17\n",
      "\n",
      "    accuracy                           0.91       160\n",
      "   macro avg       0.86      0.61      0.66       160\n",
      "weighted avg       0.90      0.91      0.89       160\n",
      "\n"
     ]
    }
   ],
   "metadata": {}
  },
  {
   "cell_type": "code",
   "execution_count": 39,
   "source": [
    "rfc.oob_score_"
   ],
   "outputs": [
    {
     "output_type": "execute_result",
     "data": {
      "text/plain": [
       "0.921875"
      ]
     },
     "metadata": {},
     "execution_count": 39
    }
   ],
   "metadata": {}
  },
  {
   "cell_type": "code",
   "execution_count": 40,
   "source": [
    "from sklearn.ensemble import AdaBoostClassifier\r\n",
    "adbc = AdaBoostClassifier(n_estimators=500,random_state=1234)"
   ],
   "outputs": [],
   "metadata": {}
  },
  {
   "cell_type": "code",
   "execution_count": 41,
   "source": [
    "adbc.fit(X_train,Y_train)"
   ],
   "outputs": [
    {
     "output_type": "execute_result",
     "data": {
      "text/plain": [
       "AdaBoostClassifier(n_estimators=500, random_state=1234)"
      ]
     },
     "metadata": {},
     "execution_count": 41
    }
   ],
   "metadata": {}
  },
  {
   "cell_type": "code",
   "execution_count": 42,
   "source": [
    "y_hat = adbc.predict(X_test)"
   ],
   "outputs": [],
   "metadata": {}
  },
  {
   "cell_type": "code",
   "execution_count": 43,
   "source": [
    "accuracy_score(Y_test,y_hat)"
   ],
   "outputs": [
    {
     "output_type": "execute_result",
     "data": {
      "text/plain": [
       "0.94375"
      ]
     },
     "metadata": {},
     "execution_count": 43
    }
   ],
   "metadata": {}
  },
  {
   "cell_type": "code",
   "execution_count": 44,
   "source": [
    "print(classification_report(Y_test,y_hat))"
   ],
   "outputs": [
    {
     "output_type": "stream",
     "name": "stdout",
     "text": [
      "              precision    recall  f1-score   support\n",
      "\n",
      "           0       0.97      0.97      0.97       143\n",
      "           1       0.75      0.71      0.73        17\n",
      "\n",
      "    accuracy                           0.94       160\n",
      "   macro avg       0.86      0.84      0.85       160\n",
      "weighted avg       0.94      0.94      0.94       160\n",
      "\n"
     ]
    }
   ],
   "metadata": {}
  },
  {
   "cell_type": "code",
   "execution_count": 45,
   "source": [
    "# Sparse PCA"
   ],
   "outputs": [],
   "metadata": {}
  }
 ],
 "metadata": {
  "orig_nbformat": 4,
  "language_info": {
   "name": "python",
   "version": "3.8.8",
   "mimetype": "text/x-python",
   "codemirror_mode": {
    "name": "ipython",
    "version": 3
   },
   "pygments_lexer": "ipython3",
   "nbconvert_exporter": "python",
   "file_extension": ".py"
  },
  "kernelspec": {
   "name": "python3",
   "display_name": "Python 3.8.8 64-bit ('base': conda)"
  },
  "interpreter": {
   "hash": "84f017cd5557d2282cf5678dc1cdd116ebcd7e7555acfe7e9218cdeda5a0331f"
  }
 },
 "nbformat": 4,
 "nbformat_minor": 2
}